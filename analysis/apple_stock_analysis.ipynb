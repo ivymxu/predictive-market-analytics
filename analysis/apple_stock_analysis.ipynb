{
 "cells": [
  {
   "cell_type": "markdown",
   "id": "6447e46e",
   "metadata": {},
   "source": [
    "# 📈 Apple Stock Price Analysis\n",
    "\n",
    "This notebook analyzes the historical stock price of Apple Inc. (AAPL) using data pulled from Yahoo Finance.\n",
    "\n"
   ]
  },
  {
   "cell_type": "code",
   "execution_count": null,
   "id": "1062ddef",
   "metadata": {},
   "outputs": [],
   "source": [
    "import yfinance as yf\n",
    "import pandas as pd\n",
    "import matplotlib.pyplot as plt\n",
    "\n",
    "# Apple Stock Data from last year\n",
    "ticker = yf.Ticker(\"AAPL\")\n",
    "df = ticker.history(period=\"1y\")"
   ]
  }
 ],
 "metadata": {
  "kernelspec": {
   "display_name": ".venv",
   "language": "python",
   "name": "python3"
  },
  "language_info": {
   "name": "python",
   "version": "3.12.6"
  }
 },
 "nbformat": 4,
 "nbformat_minor": 5
}
